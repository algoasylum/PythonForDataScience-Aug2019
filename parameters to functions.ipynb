{
 "cells": [
  {
   "cell_type": "code",
   "execution_count": 1,
   "metadata": {},
   "outputs": [],
   "source": [
    "import utils"
   ]
  },
  {
   "cell_type": "code",
   "execution_count": null,
   "metadata": {},
   "outputs": [],
   "source": [
    "def foo(a):\n",
    "    a = 10\n",
    "\n",
    "x = 5\n",
    "foo(x)\n",
    "print(x)"
   ]
  },
  {
   "cell_type": "code",
   "execution_count": 6,
   "metadata": {
    "collapsed": true,
    "jupyter": {
     "outputs_hidden": true
    }
   },
   "outputs": [
    {
     "name": "stdout",
     "output_type": "stream",
     "text": [
      "  id of x is 1483894368\n",
      "  id of a is 1483894368\n",
      "  id of a is 1483894528\n",
      "  id of x is 1483894368\n",
      "5\n"
     ]
    }
   ],
   "source": [
    "def foo(a):\n",
    "    utils.printProps((id,), 'a', a)\n",
    "    a = 10\n",
    "    utils.printProps((id,), 'a', a)\n",
    "\n",
    "x = 5\n",
    "utils.printProps((id,), 'x', x)\n",
    "foo(x)\n",
    "utils.printProps((id,), 'x', x)\n",
    "print(x)"
   ]
  },
  {
   "cell_type": "code",
   "execution_count": 7,
   "metadata": {
    "collapsed": true,
    "jupyter": {
     "outputs_hidden": true
    }
   },
   "outputs": [
    {
     "name": "stdout",
     "output_type": "stream",
     "text": [
      "  id of x is 1483894368\n",
      "  id of a is 1483894368\n",
      "  id of a is 1483894688\n",
      "  id of x is 1483894368\n",
      "5\n"
     ]
    }
   ],
   "source": [
    "def foo(a):\n",
    "    utils.printProps((id,), 'a', a)\n",
    "    a = a + 10\n",
    "    utils.printProps((id,), 'a', a)\n",
    "\n",
    "x = 5\n",
    "utils.printProps((id,), 'x', x)\n",
    "foo(x)\n",
    "utils.printProps((id,), 'x', x)\n",
    "print(x)"
   ]
  },
  {
   "cell_type": "code",
   "execution_count": 8,
   "metadata": {
    "collapsed": true,
    "jupyter": {
     "outputs_hidden": true
    }
   },
   "outputs": [
    {
     "name": "stdout",
     "output_type": "stream",
     "text": [
      "  id of x is 1483894368\n",
      "  id of a is 1483894368\n",
      "  id of a is 1483894688\n",
      "  id of x is 1483894368\n",
      "5\n"
     ]
    }
   ],
   "source": [
    "def foo(a):\n",
    "    utils.printProps((id,), 'a', a)\n",
    "    a += 10\n",
    "    utils.printProps((id,), 'a', a)\n",
    "\n",
    "x = 5\n",
    "utils.printProps((id,), 'x', x)\n",
    "foo(x)\n",
    "utils.printProps((id,), 'x', x)\n",
    "print(x)"
   ]
  },
  {
   "cell_type": "code",
   "execution_count": 10,
   "metadata": {
    "collapsed": true,
    "jupyter": {
     "outputs_hidden": true
    }
   },
   "outputs": [
    {
     "name": "stdout",
     "output_type": "stream",
     "text": [
      "[1, 2, 3]\n"
     ]
    }
   ],
   "source": [
    "def bar(b):\n",
    "    b = [5, 6]\n",
    "    \n",
    "y = [1, 2, 3]\n",
    "bar(y)\n",
    "print(y)"
   ]
  },
  {
   "cell_type": "code",
   "execution_count": 14,
   "metadata": {
    "collapsed": true,
    "jupyter": {
     "outputs_hidden": true
    }
   },
   "outputs": [
    {
     "name": "stdout",
     "output_type": "stream",
     "text": [
      "[1, 2, 3, 5, 6]\n"
     ]
    }
   ],
   "source": [
    "def bar(b):\n",
    "    b += [5, 6]\n",
    "    \n",
    "y = [1, 2, 3]\n",
    "bar(y)\n",
    "print(y)"
   ]
  },
  {
   "cell_type": "code",
   "execution_count": 11,
   "metadata": {
    "collapsed": true,
    "jupyter": {
     "outputs_hidden": true
    }
   },
   "outputs": [
    {
     "name": "stdout",
     "output_type": "stream",
     "text": [
      "  id of y is 1759919764232\n",
      "  id of b is 1759919792072\n",
      "  id of b is 1759919540680\n",
      "[1, 2, 3]\n"
     ]
    }
   ],
   "source": [
    "def bar(b):\n",
    "    utils.printProps((id,), 'b', b)\n",
    "    b = [5, 6]\n",
    "    utils.printProps((id,), 'b', b)\n",
    "    \n",
    "utils.printProps((id,), 'y', y)\n",
    "y = [1, 2, 3]\n",
    "bar(y)\n",
    "print(y)"
   ]
  },
  {
   "cell_type": "code",
   "execution_count": 13,
   "metadata": {
    "collapsed": true,
    "jupyter": {
     "outputs_hidden": true
    }
   },
   "outputs": [
    {
     "name": "stdout",
     "output_type": "stream",
     "text": [
      "  id of y is 1759919834568\n",
      "  id of b is 1759919765320\n",
      "  id of b is 1759919765320\n",
      "  id of y is 1759919765320\n",
      "[1, 2, 3, [5, 6]]\n"
     ]
    }
   ],
   "source": [
    "def bar(b):\n",
    "    utils.printProps((id,), 'b', b)\n",
    "    b.append([5, 6])\n",
    "    utils.printProps((id,), 'b', b)\n",
    "    \n",
    "utils.printProps((id,), 'y', y)\n",
    "y = [1, 2, 3]\n",
    "bar(y)\n",
    "utils.printProps((id,), 'y', y)\n",
    "print(y)"
   ]
  }
 ],
 "metadata": {
  "kernelspec": {
   "display_name": "Python 3",
   "language": "python",
   "name": "python3"
  },
  "language_info": {
   "codemirror_mode": {
    "name": "ipython",
    "version": 3
   },
   "file_extension": ".py",
   "mimetype": "text/x-python",
   "name": "python",
   "nbconvert_exporter": "python",
   "pygments_lexer": "ipython3",
   "version": "3.7.3"
  }
 },
 "nbformat": 4,
 "nbformat_minor": 4
}
