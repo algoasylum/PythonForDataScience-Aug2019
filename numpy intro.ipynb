{
 "cells": [
  {
   "cell_type": "markdown",
   "metadata": {},
   "source": [
    "The fundamental data structure provided by the numpy library is the ndarray\n",
    "\n",
    "This notebook covers some of the basics of ndarrays: how to create one, access the elements and how to index into it. \n",
    "\n",
    "The 'Big 4' advantages of ndarrays are:\n",
    "1. Universal functions\n",
    "2. Aggregations\n",
    "3. Broadcasting\n",
    "4. Fancy indexing (incl. slicing and masking)\n"
   ]
  },
  {
   "cell_type": "code",
   "execution_count": 2,
   "metadata": {},
   "outputs": [],
   "source": [
    "import numpy as np"
   ]
  },
  {
   "cell_type": "code",
   "execution_count": 22,
   "metadata": {},
   "outputs": [
    {
     "name": "stdout",
     "output_type": "stream",
     "text": [
      "<class 'numpy.ndarray'>\n"
     ]
    }
   ],
   "source": [
    "a = np.array([1., 2, 3, 4, 6])\n",
    "print(type(a))"
   ]
  },
  {
   "cell_type": "code",
   "execution_count": 23,
   "metadata": {},
   "outputs": [
    {
     "name": "stdout",
     "output_type": "stream",
     "text": [
      "(5,) 5 1 float64\n"
     ]
    }
   ],
   "source": [
    "print(a.shape, a.size, a.ndim, a.dtype)"
   ]
  },
  {
   "cell_type": "code",
   "execution_count": 16,
   "metadata": {},
   "outputs": [
    {
     "name": "stdout",
     "output_type": "stream",
     "text": [
      "[0 1 2 3 4 5 6 7 8 9]\n"
     ]
    }
   ],
   "source": [
    "b = np.arange(10)\n",
    "print(b)"
   ]
  },
  {
   "cell_type": "code",
   "execution_count": 31,
   "metadata": {},
   "outputs": [],
   "source": [
    "def properties(a):\n",
    "    #return 'ndim: ', a.ndim, 'shape: ', a.shape, 'size: ', a.size, 'type: ', a.dtype\n",
    "    return f'ndim: {a.ndim} shape: {a.shape} size: {a.size } type: {a.dtype}'"
   ]
  },
  {
   "cell_type": "code",
   "execution_count": 32,
   "metadata": {},
   "outputs": [
    {
     "name": "stdout",
     "output_type": "stream",
     "text": [
      "ndim: 2 shape: (2, 5) size: 10 type: int32\n",
      "(10,) 10 1\n",
      "[0 1 2 3 4 5 6 7 8 9]\n",
      "(2, 5) 10 2\n",
      "[[0 1 2 3 4]\n",
      " [5 6 7 8 9]]\n"
     ]
    }
   ],
   "source": [
    "c = b.reshape(2, 5)\n",
    "print(properties(c))\n",
    "print(b.shape, b.size, b.ndim)\n",
    "print(b)\n",
    "print(c.shape, c.size, c.ndim)\n",
    "print(c)"
   ]
  },
  {
   "cell_type": "code",
   "execution_count": 28,
   "metadata": {},
   "outputs": [
    {
     "data": {
      "text/plain": [
       "array([4, 9])"
      ]
     },
     "execution_count": 28,
     "metadata": {},
     "output_type": "execute_result"
    }
   ],
   "source": [
    "c[:,4]"
   ]
  },
  {
   "cell_type": "code",
   "execution_count": 30,
   "metadata": {},
   "outputs": [
    {
     "data": {
      "text/plain": [
       "8"
      ]
     },
     "execution_count": 30,
     "metadata": {},
     "output_type": "execute_result"
    }
   ],
   "source": [
    "c[-1,3]"
   ]
  },
  {
   "cell_type": "code",
   "execution_count": 3,
   "metadata": {},
   "outputs": [
    {
     "name": "stdout",
     "output_type": "stream",
     "text": [
      "[[   0    1    2 ...  244  245  246]\n",
      " [ 247  248  249 ...  491  492  493]\n",
      " [ 494  495  496 ...  738  739  740]\n",
      " ...\n",
      " [ 988  989  990 ... 1232 1233 1234]\n",
      " [1235 1236 1237 ... 1479 1480 1481]\n",
      " [1482 1483 1484 ... 1726 1727 1728]]\n"
     ]
    }
   ],
   "source": [
    "d = np.arange(1729).reshape(7, 247)\n",
    "print(d)"
   ]
  },
  {
   "cell_type": "code",
   "execution_count": 4,
   "metadata": {},
   "outputs": [
    {
     "name": "stdout",
     "output_type": "stream",
     "text": [
      "[[[   0    1    2 ...   16   17   18]\n",
      "  [  19   20   21 ...   35   36   37]\n",
      "  [  38   39   40 ...   54   55   56]\n",
      "  ...\n",
      "  [ 190  191  192 ...  206  207  208]\n",
      "  [ 209  210  211 ...  225  226  227]\n",
      "  [ 228  229  230 ...  244  245  246]]\n",
      "\n",
      " [[ 247  248  249 ...  263  264  265]\n",
      "  [ 266  267  268 ...  282  283  284]\n",
      "  [ 285  286  287 ...  301  302  303]\n",
      "  ...\n",
      "  [ 437  438  439 ...  453  454  455]\n",
      "  [ 456  457  458 ...  472  473  474]\n",
      "  [ 475  476  477 ...  491  492  493]]\n",
      "\n",
      " [[ 494  495  496 ...  510  511  512]\n",
      "  [ 513  514  515 ...  529  530  531]\n",
      "  [ 532  533  534 ...  548  549  550]\n",
      "  ...\n",
      "  [ 684  685  686 ...  700  701  702]\n",
      "  [ 703  704  705 ...  719  720  721]\n",
      "  [ 722  723  724 ...  738  739  740]]\n",
      "\n",
      " ...\n",
      "\n",
      " [[ 988  989  990 ... 1004 1005 1006]\n",
      "  [1007 1008 1009 ... 1023 1024 1025]\n",
      "  [1026 1027 1028 ... 1042 1043 1044]\n",
      "  ...\n",
      "  [1178 1179 1180 ... 1194 1195 1196]\n",
      "  [1197 1198 1199 ... 1213 1214 1215]\n",
      "  [1216 1217 1218 ... 1232 1233 1234]]\n",
      "\n",
      " [[1235 1236 1237 ... 1251 1252 1253]\n",
      "  [1254 1255 1256 ... 1270 1271 1272]\n",
      "  [1273 1274 1275 ... 1289 1290 1291]\n",
      "  ...\n",
      "  [1425 1426 1427 ... 1441 1442 1443]\n",
      "  [1444 1445 1446 ... 1460 1461 1462]\n",
      "  [1463 1464 1465 ... 1479 1480 1481]]\n",
      "\n",
      " [[1482 1483 1484 ... 1498 1499 1500]\n",
      "  [1501 1502 1503 ... 1517 1518 1519]\n",
      "  [1520 1521 1522 ... 1536 1537 1538]\n",
      "  ...\n",
      "  [1672 1673 1674 ... 1688 1689 1690]\n",
      "  [1691 1692 1693 ... 1707 1708 1709]\n",
      "  [1710 1711 1712 ... 1726 1727 1728]]]\n"
     ]
    }
   ],
   "source": [
    "d = d.reshape(7, 13, 19)\n",
    "print(d)"
   ]
  },
  {
   "cell_type": "code",
   "execution_count": 37,
   "metadata": {},
   "outputs": [
    {
     "name": "stdout",
     "output_type": "stream",
     "text": [
      "(7, 2, 2)\n",
      "[[[ 186  187]\n",
      "  [ 205  206]]\n",
      "\n",
      " [[ 433  434]\n",
      "  [ 452  453]]\n",
      "\n",
      " [[ 680  681]\n",
      "  [ 699  700]]\n",
      "\n",
      " [[ 927  928]\n",
      "  [ 946  947]]\n",
      "\n",
      " [[1174 1175]\n",
      "  [1193 1194]]\n",
      "\n",
      " [[1421 1422]\n",
      "  [1440 1441]]\n",
      "\n",
      " [[1668 1669]\n",
      "  [1687 1688]]]\n"
     ]
    }
   ],
   "source": [
    "d2 = d[:,9:11,15:17]\n",
    "print(d2.shape)\n",
    "print(d2)"
   ]
  },
  {
   "cell_type": "code",
   "execution_count": 44,
   "metadata": {},
   "outputs": [
    {
     "name": "stdout",
     "output_type": "stream",
     "text": [
      "1422\n",
      "(array([5], dtype=int64), array([9], dtype=int64), array([16], dtype=int64))\n",
      "[1422]\n"
     ]
    }
   ],
   "source": [
    "print(d2[5,0,1])\n",
    "foo = np.where(d == 1422)\n",
    "print(foo)\n",
    "print(d[foo])"
   ]
  },
  {
   "cell_type": "code",
   "execution_count": 45,
   "metadata": {},
   "outputs": [
    {
     "name": "stdout",
     "output_type": "stream",
     "text": [
      "[42]\n"
     ]
    }
   ],
   "source": [
    "d2[5, 0, 1] = 42\n",
    "print(d[foo])"
   ]
  },
  {
   "cell_type": "code",
   "execution_count": 5,
   "metadata": {},
   "outputs": [
    {
     "name": "stdout",
     "output_type": "stream",
     "text": [
      "(7, 13, 19)\n"
     ]
    }
   ],
   "source": [
    "print(d.shape)"
   ]
  },
  {
   "cell_type": "code",
   "execution_count": 8,
   "metadata": {},
   "outputs": [],
   "source": [
    "e = d[0]"
   ]
  },
  {
   "cell_type": "code",
   "execution_count": 10,
   "metadata": {},
   "outputs": [],
   "source": [
    "f = e[0]"
   ]
  },
  {
   "cell_type": "code",
   "execution_count": 11,
   "metadata": {},
   "outputs": [
    {
     "data": {
      "text/plain": [
       "0"
      ]
     },
     "execution_count": 11,
     "metadata": {},
     "output_type": "execute_result"
    }
   ],
   "source": [
    "f[0]"
   ]
  },
  {
   "cell_type": "code",
   "execution_count": 12,
   "metadata": {},
   "outputs": [
    {
     "data": {
      "text/plain": [
       "0"
      ]
     },
     "execution_count": 12,
     "metadata": {},
     "output_type": "execute_result"
    }
   ],
   "source": [
    "e[0][0]"
   ]
  },
  {
   "cell_type": "code",
   "execution_count": 13,
   "metadata": {},
   "outputs": [
    {
     "data": {
      "text/plain": [
       "0"
      ]
     },
     "execution_count": 13,
     "metadata": {},
     "output_type": "execute_result"
    }
   ],
   "source": [
    "d[0][0][0]"
   ]
  },
  {
   "cell_type": "markdown",
   "metadata": {},
   "source": [
    "Exercise:\n",
    "\n",
    "- Select the 2nd block, row 2-4, column 5-8\n",
    "- Select the last two blocks, first row, 2nd column\n",
    "- Select the first two rows and last two columns of the first block. What are the dimensions of this matrix?\n",
    "\n",
    "<img src=\"3d ndarray.png\">\n",
    "<img src=\"3d ndarray-col1.png\">\n",
    "<img src=\"3d ndarray-col2.png\">\n",
    "<img src=\"3d ndarray-col3.png\">\n"
   ]
  },
  {
   "cell_type": "markdown",
   "metadata": {},
   "source": [
    "<img src=\"3d ndarray-row1.png\">\n",
    "<img src=\"3d ndarray-row1-1.png\">\n",
    "<img src=\"3d ndarray-row2.png\">\n",
    "<img src=\"3d ndarray-block1.png\">\n",
    "<img src=\"3d ndarray-block2.png\">"
   ]
  },
  {
   "cell_type": "code",
   "execution_count": null,
   "metadata": {},
   "outputs": [],
   "source": []
  },
  {
   "cell_type": "code",
   "execution_count": null,
   "metadata": {},
   "outputs": [],
   "source": []
  },
  {
   "cell_type": "code",
   "execution_count": 33,
   "metadata": {},
   "outputs": [
    {
     "name": "stdout",
     "output_type": "stream",
     "text": [
      "[[9.39267362e-312]\n",
      " [9.39267362e-312]\n",
      " [9.39267362e-312]\n",
      " [1.26974871e-321]\n",
      " [0.00000000e+000]\n",
      " [0.00000000e+000]\n",
      " [0.00000000e+000]\n",
      " [0.00000000e+000]\n",
      " [0.00000000e+000]\n",
      " [0.00000000e+000]\n",
      " [0.00000000e+000]\n",
      " [0.00000000e+000]]\n",
      "[[1. 1. 1.]\n",
      " [1. 1. 1.]\n",
      " [1. 1. 1.]]\n"
     ]
    }
   ],
   "source": [
    "e = np.empty((12, 1))\n",
    "print(e)\n",
    "e = np.ones((3, 3))\n",
    "print(e)"
   ]
  },
  {
   "cell_type": "code",
   "execution_count": 11,
   "metadata": {},
   "outputs": [
    {
     "name": "stdout",
     "output_type": "stream",
     "text": [
      "[[[ True  True  True ... False False False]\n",
      "  [False  True  True ... False False False]\n",
      "  [False False  True ... False False False]\n",
      "  ...\n",
      "  [ True  True  True ... False False False]\n",
      "  [False  True  True ... False False False]\n",
      "  [False False  True ... False False False]]\n",
      "\n",
      " [[False False False ...  True False False]\n",
      "  [False False False ...  True  True False]\n",
      "  [False False False ...  True  True  True]\n",
      "  ...\n",
      "  [False False False ...  True False False]\n",
      "  [False False False ...  True  True False]\n",
      "  [False False False ...  True  True  True]]\n",
      "\n",
      " [[False False False ...  True  True  True]\n",
      "  [ True False False ... False  True  True]\n",
      "  [ True  True False ... False False  True]\n",
      "  ...\n",
      "  [False False False ...  True  True  True]\n",
      "  [ True False False ... False  True  True]\n",
      "  [ True  True False ... False False  True]]\n",
      "\n",
      " ...\n",
      "\n",
      " [[False False  True ... False False False]\n",
      "  [False False False ...  True False False]\n",
      "  [False False False ...  True  True False]\n",
      "  ...\n",
      "  [False False  True ... False False False]\n",
      "  [False False False ...  True False False]\n",
      "  [False False False ...  True  True False]]\n",
      "\n",
      " [[False False False ...  True  True  True]\n",
      "  [False False False ...  True  True  True]\n",
      "  [ True False False ... False  True  True]\n",
      "  ...\n",
      "  [False False False ...  True  True  True]\n",
      "  [False False False ...  True  True  True]\n",
      "  [ True False False ... False  True  True]]\n",
      "\n",
      " [[ True  True False ... False False  True]\n",
      "  [ True  True  True ... False False False]\n",
      "  [ True  True  True ... False False False]\n",
      "  ...\n",
      "  [ True  True False ... False False  True]\n",
      "  [ True  True  True ... False False False]\n",
      "  [ True  True  True ... False False False]]]\n"
     ]
    }
   ],
   "source": [
    "## creating a mask\n",
    "dmod10 = d % 10\n",
    "lt4 = dmod10 < 4\n",
    "print(lt4)"
   ]
  },
  {
   "cell_type": "code",
   "execution_count": 14,
   "metadata": {},
   "outputs": [
    {
     "name": "stdout",
     "output_type": "stream",
     "text": [
      "692 (692,) 1\n"
     ]
    }
   ],
   "source": [
    "# applying a mask to an array returns \n",
    "# an array containing the values corresponding \n",
    "# to where the mask has a true\n",
    "dlt4 = d[lt4]\n",
    "print(dlt4.size, dlt4.shape, dlt4.ndim)"
   ]
  },
  {
   "cell_type": "code",
   "execution_count": 17,
   "metadata": {},
   "outputs": [
    {
     "name": "stdout",
     "output_type": "stream",
     "text": [
      "[[[ True  True  True ... False False False]\n",
      "  [False False False ... False False False]\n",
      "  [False False False ... False False False]\n",
      "  ...\n",
      "  [False False False ... False False False]\n",
      "  [False False False ... False False False]\n",
      "  [False False False ... False False False]]\n",
      "\n",
      " [[False False False ... False False False]\n",
      "  [False False False ... False False False]\n",
      "  [False False False ... False False False]\n",
      "  ...\n",
      "  [False False False ... False False False]\n",
      "  [False False False ... False False False]\n",
      "  [False False False ... False False False]]\n",
      "\n",
      " [[False False False ... False False False]\n",
      "  [False False False ... False False False]\n",
      "  [False False False ... False False False]\n",
      "  ...\n",
      "  [False False False ... False False False]\n",
      "  [False False False ... False False False]\n",
      "  [False False False ... False False False]]\n",
      "\n",
      " ...\n",
      "\n",
      " [[False False False ... False False False]\n",
      "  [False False False ... False False False]\n",
      "  [False False False ... False False False]\n",
      "  ...\n",
      "  [False False False ... False False False]\n",
      "  [False False False ... False False False]\n",
      "  [False False False ... False False False]]\n",
      "\n",
      " [[False False False ... False False False]\n",
      "  [False False False ... False False False]\n",
      "  [False False False ... False False False]\n",
      "  ...\n",
      "  [False False False ... False False False]\n",
      "  [False False False ... False False False]\n",
      "  [False False False ... False False False]]\n",
      "\n",
      " [[False False False ... False False False]\n",
      "  [False False False ... False False False]\n",
      "  [False False False ... False False False]\n",
      "  ...\n",
      "  [False False False ... False False False]\n",
      "  [False False False ... False False False]\n",
      "  [False False False ... False False False]]]\n"
     ]
    }
   ],
   "source": [
    "dlt5 = d < 5\n",
    "print(dlt5)"
   ]
  },
  {
   "cell_type": "code",
   "execution_count": null,
   "metadata": {},
   "outputs": [],
   "source": []
  }
 ],
 "metadata": {
  "kernelspec": {
   "display_name": "Python 3",
   "language": "python",
   "name": "python3"
  },
  "language_info": {
   "codemirror_mode": {
    "name": "ipython",
    "version": 3
   },
   "file_extension": ".py",
   "mimetype": "text/x-python",
   "name": "python",
   "nbconvert_exporter": "python",
   "pygments_lexer": "ipython3",
   "version": "3.6.9"
  },
  "latex_envs": {
   "LaTeX_envs_menu_present": true,
   "autoclose": false,
   "autocomplete": true,
   "bibliofile": "biblio.bib",
   "cite_by": "apalike",
   "current_citInitial": 1,
   "eqLabelWithNumbers": true,
   "eqNumInitial": 1,
   "hotkeys": {
    "equation": "Ctrl-E",
    "itemize": "Ctrl-I"
   },
   "labels_anchors": false,
   "latex_user_defs": false,
   "report_style_numbering": false,
   "user_envs_cfg": false
  }
 },
 "nbformat": 4,
 "nbformat_minor": 4
}
