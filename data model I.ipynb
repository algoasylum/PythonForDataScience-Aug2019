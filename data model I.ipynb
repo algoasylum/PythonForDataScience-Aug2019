{
 "cells": [
  {
   "cell_type": "markdown",
   "metadata": {},
   "source": [
    "## Everything in python is an object \n",
    "\n",
    "Objects have three properties:\n",
    "- id\n",
    "- value\n",
    "- type\n",
    "\n",
    "The *id* of an object is constant throughout the lifetime of the object\n",
    "\n",
    "An object may be _mutable_, in which case its *value* can change. If the object is _immutable_, its value cannot change\n",
    "Note the difference between a _name_ and the _object_. A name can bind to any object, and returns the type of the object it is bound to, if you ask it nicely. \n",
    "\n",
    "So: python is strongly typed, just not the way you're used to!"
   ]
  },
  {
   "cell_type": "code",
   "execution_count": null,
   "metadata": {},
   "outputs": [],
   "source": [
    "## id of objects\n",
    "\n",
    "a = 5\n",
    "b = 5\n",
    "print(\"id of 5 is \", id(5))\n",
    "print(\"id of a is \", id(a))\n",
    "print(\"id of b is \", id(b))\n",
    "print()\n",
    "\n",
    "b = 6\n",
    "print(\"id of 5 is \", id(5))\n",
    "print(\"id of 6 is \", id(6))\n",
    "print(\"id of a is \", id(a))\n",
    "print(\"id of b is \", id(b))\n",
    "print()\n",
    "\n",
    "# list of items\n",
    "aList = [1, 2, 3]\n",
    "print(\"id of     aList\", id(aList))\n",
    "print(\"id of [1, 2, 3]\", id([1, 2, 3]))\n",
    "print(\"id of  aList[0]\", id(aList[0]))\n",
    "print(\"id of         1\", id(1))"
   ]
  },
  {
   "cell_type": "markdown",
   "metadata": {},
   "source": [
    "## Exercises\n",
    "- Set three names to values 1, 2 and 3\n",
    "- Print the `id`s of all three names and the entries in the list `aList` above\n",
    "- Can you explain the outcome?\n",
    "\n",
    "\n",
    "Now set all three names to values 1., 2., and 3. and update `aList` as well. Compare the `id`s of all"
   ]
  },
  {
   "cell_type": "markdown",
   "metadata": {},
   "source": [
    "---\n",
    "Can we be more efficient with all of this repitition? \n",
    "\n",
    "Of course! Let's define functions to streamline the process"
   ]
  },
  {
   "cell_type": "code",
   "execution_count": 1,
   "metadata": {},
   "outputs": [
    {
     "name": "stdout",
     "output_type": "stream",
     "text": [
      "id of  a  is  1483894368\n",
      "id of  b  is  1483894368\n",
      "id of  5  is  1483894368\n",
      "foo\n"
     ]
    }
   ],
   "source": [
    "## helper function\n",
    "def printId(name, var):\n",
    "    print(\"id of \", name, \" is \", id(var))\n",
    "    \n",
    "a = 5\n",
    "b = 5\n",
    "printId('a', a)\n",
    "printId('b', b)\n",
    "printId('5', 5)"
   ]
  },
  {
   "cell_type": "code",
   "execution_count": null,
   "metadata": {},
   "outputs": [],
   "source": [
    "def printType(name, var):\n",
    "    print(\"Type of \", name, \" is \", type(var))\n",
    "    \n",
    "a = 5\n",
    "printId('a', a)\n",
    "printId('5', 5)\n",
    "printType('a', a)\n",
    "printType('5', 5)\n",
    "\n",
    "a = 5.5\n",
    "printId('  a', a)\n",
    "printId('5.5', 5.5)\n",
    "printType('  a', a)\n",
    "printType('5.5', 5.5)\n"
   ]
  },
  {
   "cell_type": "code",
   "execution_count": null,
   "metadata": {},
   "outputs": [],
   "source": [
    "def printValue(name, var):\n",
    "    print(\"Value of \", name, \"is \", var)\n",
    "\n",
    "printValue('  a', a)\n",
    "printValue('5.5', 5.5)\n"
   ]
  },
  {
   "cell_type": "code",
   "execution_count": null,
   "metadata": {},
   "outputs": [],
   "source": [
    "printValue('foo', 'foo')\n",
    "a = \"bar\"\n",
    "printValue('a', a)\n",
    "printId('  a', a)\n",
    "printId(\"bar\", \"bar\")"
   ]
  },
  {
   "cell_type": "code",
   "execution_count": 23,
   "metadata": {
    "collapsed": true,
    "jupyter": {
     "outputs_hidden": true
    }
   },
   "outputs": [
    {
     "name": "stdout",
     "output_type": "stream",
     "text": [
      "type  of  5 is  <class 'int'>\n",
      "id  of  5 is  1483894368\n"
     ]
    },
    {
     "ename": "TypeError",
     "evalue": "object of type 'int' has no len()",
     "output_type": "error",
     "traceback": [
      "\u001b[1;31m---------------------------------------------------------------------------\u001b[0m",
      "\u001b[1;31mTypeError\u001b[0m                                 Traceback (most recent call last)",
      "\u001b[1;32m<ipython-input-23-2e6855fbe402>\u001b[0m in \u001b[0;36m<module>\u001b[1;34m()\u001b[0m\n\u001b[0;32m      6\u001b[0m \u001b[0mprintProp\u001b[0m\u001b[1;33m(\u001b[0m\u001b[0mtype\u001b[0m\u001b[1;33m,\u001b[0m \u001b[1;34m\"5\"\u001b[0m\u001b[1;33m,\u001b[0m \u001b[1;36m5\u001b[0m\u001b[1;33m)\u001b[0m\u001b[1;33m\u001b[0m\u001b[0m\n\u001b[0;32m      7\u001b[0m \u001b[0mprintProp\u001b[0m\u001b[1;33m(\u001b[0m\u001b[0mid\u001b[0m\u001b[1;33m,\u001b[0m \u001b[1;34m\"5\"\u001b[0m\u001b[1;33m,\u001b[0m \u001b[1;36m5\u001b[0m\u001b[1;33m)\u001b[0m\u001b[1;33m\u001b[0m\u001b[0m\n\u001b[1;32m----> 8\u001b[1;33m \u001b[0mprintProp\u001b[0m\u001b[1;33m(\u001b[0m\u001b[0mlen\u001b[0m\u001b[1;33m,\u001b[0m \u001b[1;34m\"5\"\u001b[0m\u001b[1;33m,\u001b[0m \u001b[1;36m5\u001b[0m\u001b[1;33m)\u001b[0m\u001b[1;33m\u001b[0m\u001b[0m\n\u001b[0m\u001b[0;32m      9\u001b[0m \u001b[1;31m#printProp(value, \"5\", 5) ### bzzzzz\u001b[0m\u001b[1;33m\u001b[0m\u001b[1;33m\u001b[0m\u001b[0m\n",
      "\u001b[1;32m<ipython-input-23-2e6855fbe402>\u001b[0m in \u001b[0;36mprintProp\u001b[1;34m(prop, name, var)\u001b[0m\n\u001b[0;32m      2\u001b[0m \u001b[1;32mdef\u001b[0m \u001b[0mprintProp\u001b[0m\u001b[1;33m(\u001b[0m\u001b[0mprop\u001b[0m\u001b[1;33m,\u001b[0m \u001b[0mname\u001b[0m\u001b[1;33m,\u001b[0m \u001b[0mvar\u001b[0m\u001b[1;33m)\u001b[0m\u001b[1;33m:\u001b[0m\u001b[1;33m\u001b[0m\u001b[0m\n\u001b[0;32m      3\u001b[0m     \u001b[1;31m#print(name(prop), \" of \", name, \"is \", prop(var))\u001b[0m\u001b[1;33m\u001b[0m\u001b[1;33m\u001b[0m\u001b[0m\n\u001b[1;32m----> 4\u001b[1;33m     \u001b[0mprint\u001b[0m\u001b[1;33m(\u001b[0m\u001b[0mprop\u001b[0m\u001b[1;33m.\u001b[0m\u001b[0m__name__\u001b[0m\u001b[1;33m,\u001b[0m \u001b[1;34m\" of \"\u001b[0m\u001b[1;33m,\u001b[0m \u001b[0mname\u001b[0m\u001b[1;33m,\u001b[0m \u001b[1;34m\"is \"\u001b[0m\u001b[1;33m,\u001b[0m \u001b[0mprop\u001b[0m\u001b[1;33m(\u001b[0m\u001b[0mvar\u001b[0m\u001b[1;33m)\u001b[0m\u001b[1;33m)\u001b[0m\u001b[1;33m\u001b[0m\u001b[0m\n\u001b[0m\u001b[0;32m      5\u001b[0m \u001b[1;33m\u001b[0m\u001b[0m\n\u001b[0;32m      6\u001b[0m \u001b[0mprintProp\u001b[0m\u001b[1;33m(\u001b[0m\u001b[0mtype\u001b[0m\u001b[1;33m,\u001b[0m \u001b[1;34m\"5\"\u001b[0m\u001b[1;33m,\u001b[0m \u001b[1;36m5\u001b[0m\u001b[1;33m)\u001b[0m\u001b[1;33m\u001b[0m\u001b[0m\n",
      "\u001b[1;31mTypeError\u001b[0m: object of type 'int' has no len()"
     ]
    }
   ],
   "source": [
    "#How about a single function for all of these?\n",
    "def printProp(prop, name, var):\n",
    "    print(prop.__name__, \" of \", name, \"is \", prop(var)) \n",
    "    \n",
    "printProp(type, \"5\", 5)\n",
    "printProp(id, \"5\", 5)\n",
    "\n",
    "printProp(len, \"5\", 5)    ### bzzzzz catch and deal with exceptions\n",
    "printProp(value, \"5\", 5) ### bzzzzz value is not a function"
   ]
  },
  {
   "cell_type": "code",
   "execution_count": null,
   "metadata": {},
   "outputs": [],
   "source": [
    "\n",
    "printProps((type,), 'pp', printProps)\n",
    "printProps((printProps,), 'a', a) "
   ]
  },
  {
   "cell_type": "code",
   "execution_count": 3,
   "metadata": {
    "collapsed": true,
    "jupyter": {
     "outputs_hidden": true
    }
   },
   "outputs": [
    {
     "data": {
      "text/plain": [
       "['__abs__',\n",
       " '__add__',\n",
       " '__and__',\n",
       " '__bool__',\n",
       " '__ceil__',\n",
       " '__class__',\n",
       " '__delattr__',\n",
       " '__dir__',\n",
       " '__divmod__',\n",
       " '__doc__',\n",
       " '__eq__',\n",
       " '__float__',\n",
       " '__floor__',\n",
       " '__floordiv__',\n",
       " '__format__',\n",
       " '__ge__',\n",
       " '__getattribute__',\n",
       " '__getnewargs__',\n",
       " '__gt__',\n",
       " '__hash__',\n",
       " '__index__',\n",
       " '__init__',\n",
       " '__init_subclass__',\n",
       " '__int__',\n",
       " '__invert__',\n",
       " '__le__',\n",
       " '__lshift__',\n",
       " '__lt__',\n",
       " '__mod__',\n",
       " '__mul__',\n",
       " '__ne__',\n",
       " '__neg__',\n",
       " '__new__',\n",
       " '__or__',\n",
       " '__pos__',\n",
       " '__pow__',\n",
       " '__radd__',\n",
       " '__rand__',\n",
       " '__rdivmod__',\n",
       " '__reduce__',\n",
       " '__reduce_ex__',\n",
       " '__repr__',\n",
       " '__rfloordiv__',\n",
       " '__rlshift__',\n",
       " '__rmod__',\n",
       " '__rmul__',\n",
       " '__ror__',\n",
       " '__round__',\n",
       " '__rpow__',\n",
       " '__rrshift__',\n",
       " '__rshift__',\n",
       " '__rsub__',\n",
       " '__rtruediv__',\n",
       " '__rxor__',\n",
       " '__setattr__',\n",
       " '__sizeof__',\n",
       " '__str__',\n",
       " '__sub__',\n",
       " '__subclasshook__',\n",
       " '__truediv__',\n",
       " '__trunc__',\n",
       " '__xor__',\n",
       " 'bit_length',\n",
       " 'conjugate',\n",
       " 'denominator',\n",
       " 'from_bytes',\n",
       " 'imag',\n",
       " 'numerator',\n",
       " 'real',\n",
       " 'to_bytes']"
      ]
     },
     "execution_count": 3,
     "metadata": {},
     "output_type": "execute_result"
    }
   ],
   "source": [
    "a = 5\n",
    "dir(a)"
   ]
  },
  {
   "cell_type": "code",
   "execution_count": 27,
   "metadata": {},
   "outputs": [
    {
     "name": "stdout",
     "output_type": "stream",
     "text": [
      "type  of  a is  <class 'int'>\n",
      "id  of  a is  1483894368\n"
     ]
    }
   ],
   "source": [
    "#but still... why call it multiple times??\n",
    "def printProps(props, name, var):\n",
    "    for p in props:\n",
    "        print(p.__name__, \" of \", name, \"is \", p(var)) \n",
    "        \n",
    "printProps((type, id), 'a', a) "
   ]
  },
  {
   "cell_type": "markdown",
   "metadata": {},
   "source": [
    "What if we start a new notebook -- we don't really want to keep defining the same function over and over. \n",
    "Let's create a separate file with these functions in there. Let's say this is _util.py_\n",
    "\n",
    "Now in any new notebook, all we need to do is \n",
    "\n",
    "`import util`\n",
    "\n",
    "and use the functions as\n",
    "\n",
    "`util.printValue()`\n",
    "\n",
    "etc.\n",
    "\n",
    "okay, we still need to type `util` everytime. Here's another shortcut:\n",
    "\n",
    "`import util as u`\n",
    "\n",
    "and then we just say\n",
    "\n",
    "`u.printValue()`\n",
    "\n",
    "We can do better in one more way, but I highly discourage you from even thinking about doing this:\n",
    "\n",
    "`from util import *`\n",
    "\n",
    "use the functions directly:\n",
    "\n",
    "`printValue()`\n",
    "\n",
    "---"
   ]
  },
  {
   "cell_type": "markdown",
   "metadata": {},
   "source": [
    "## Exercises\n",
    "Create your own utility module \n",
    "Going forward, \n",
    "- Import this in all your future notebooks\n",
    "- Keep adding utility functions as you write them\n",
    "- Document each function as you add it to your module"
   ]
  }
 ],
 "metadata": {
  "kernelspec": {
   "display_name": "Python 3",
   "language": "python",
   "name": "python3"
  },
  "language_info": {
   "codemirror_mode": {
    "name": "ipython",
    "version": 3
   },
   "file_extension": ".py",
   "mimetype": "text/x-python",
   "name": "python",
   "nbconvert_exporter": "python",
   "pygments_lexer": "ipython3",
   "version": "3.7.3"
  },
  "latex_envs": {
   "LaTeX_envs_menu_present": true,
   "autoclose": false,
   "autocomplete": true,
   "bibliofile": "biblio.bib",
   "cite_by": "apalike",
   "current_citInitial": 1,
   "eqLabelWithNumbers": true,
   "eqNumInitial": 1,
   "hotkeys": {
    "equation": "Ctrl-E",
    "itemize": "Ctrl-I"
   },
   "labels_anchors": false,
   "latex_user_defs": false,
   "report_style_numbering": false,
   "user_envs_cfg": false
  }
 },
 "nbformat": 4,
 "nbformat_minor": 4
}
