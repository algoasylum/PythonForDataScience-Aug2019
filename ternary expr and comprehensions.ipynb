{
 "cells": [
  {
   "cell_type": "markdown",
   "metadata": {},
   "source": [
    "## Ternary Expressions\n",
    "\n",
    "Standard conditional statements work as you would expect:\n",
    "<pre>\n",
    "    if condition:\n",
    "        True expression\n",
    "    elif condition:\n",
    "        alternate expression\n",
    "    else:\n",
    "        False expression\n",
    "</pre>\n",
    "\n",
    "A simple example:"
   ]
  },
  {
   "cell_type": "code",
   "execution_count": null,
   "metadata": {},
   "outputs": [],
   "source": [
    "a = input()\n",
    "print(a)\n",
    "print(type(a))\n",
    "a = int(a)"
   ]
  },
  {
   "cell_type": "code",
   "execution_count": 3,
   "metadata": {},
   "outputs": [
    {
     "name": "stdout",
     "output_type": "stream",
     "text": [
      "Enter a stringa, b, MIT, Python\n",
      "a, b, MIT, Python\n",
      "<class 'str'>\n",
      "4\n",
      "['a,', 'b,', 'MIT,', 'Python']\n"
     ]
    }
   ],
   "source": [
    "a = input(\"Enter a string: \")\n",
    "print(a)\n",
    "print(type(a))\n",
    "b = a.split()\n",
    "print(len(b))\n",
    "print(b)"
   ]
  },
  {
   "cell_type": "code",
   "execution_count": 60,
   "metadata": {},
   "outputs": [
    {
     "name": "stdout",
     "output_type": "stream",
     "text": [
      "enter two numbers: 2 4\n",
      "2 4\n",
      "<class 'str'>\n",
      "second is greater\n"
     ]
    }
   ],
   "source": [
    "a, b = ((input('enter two numbers: ').split()))\n",
    "print(a, b)\n",
    "print(type(a))\n",
    "\n",
    "# There's a better way of doing this -- we'll get to it shortly!\n",
    "a = int(a)\n",
    "b = int(b)\n",
    "\n",
    "if a > b:\n",
    "    print(\"first is greater\")\n",
    "elif a == b:\n",
    "    print(\"they're equal\")\n",
    "else:\n",
    "    print(\"second is greater\")\n",
    "\n"
   ]
  },
  {
   "cell_type": "markdown",
   "metadata": {},
   "source": [
    "The elif and else conditions are optional, depending on what you want to achieve\n",
    "\n",
    "This is, ofcourse, a silly example, and if we had complicated expressions this syntax is fine\n",
    "However, when we have very simple operations to do, this is overly verbose\n",
    "\n",
    "For example:"
   ]
  },
  {
   "cell_type": "code",
   "execution_count": 43,
   "metadata": {},
   "outputs": [
    {
     "name": "stdout",
     "output_type": "stream",
     "text": [
      "3 120 117\n"
     ]
    }
   ],
   "source": [
    "a = 3\n",
    "b = 120\n",
    "if a < b:\n",
    "    c = b - a\n",
    "else:\n",
    "    c = a - b\n",
    "print(a, b, c)"
   ]
  },
  {
   "cell_type": "markdown",
   "metadata": {},
   "source": [
    "can be written as:"
   ]
  },
  {
   "cell_type": "code",
   "execution_count": 45,
   "metadata": {},
   "outputs": [
    {
     "name": "stdout",
     "output_type": "stream",
     "text": [
      "3 120 117\n"
     ]
    }
   ],
   "source": [
    "c = b - a if a < b else a - b\n",
    "print(a, b, c)"
   ]
  },
  {
   "cell_type": "markdown",
   "metadata": {},
   "source": [
    "Once you understand this, you can start thinking of more complicated structures:"
   ]
  },
  {
   "cell_type": "code",
   "execution_count": 42,
   "metadata": {},
   "outputs": [
    {
     "name": "stdout",
     "output_type": "stream",
     "text": [
      "-603 120\n"
     ]
    }
   ],
   "source": [
    "a, b = (a-b, b) if a < b else (b-a, a)\n",
    "print(a, b)"
   ]
  },
  {
   "cell_type": "markdown",
   "metadata": {},
   "source": [
    "This is the *ternary operator*\n",
    "\n",
    "---"
   ]
  },
  {
   "cell_type": "markdown",
   "metadata": {},
   "source": [
    "## List Comprehensions\n",
    "\n",
    "Let's look at something similar for 'for' loops. The basic structure is\n",
    "<pre>\n",
    "    for _item_ in _sequence_:\n",
    "        expression\n",
    "</pre>\n",
    "\n",
    "So here's how we could square all the first 100 integers:"
   ]
  },
  {
   "cell_type": "code",
   "execution_count": 46,
   "metadata": {},
   "outputs": [
    {
     "name": "stdout",
     "output_type": "stream",
     "text": [
      "[0, 1, 4, 9, 16]\n"
     ]
    }
   ],
   "source": [
    "first_100 = list(range(100))\n",
    "first_100_squared = []\n",
    "\n",
    "for num in first_100:\n",
    "    first_100_squared.append(num * num)\n",
    "\n",
    "print(first_100_squared[:5])"
   ]
  },
  {
   "cell_type": "markdown",
   "metadata": {},
   "source": [
    "And if we wanted a list of just the even numbers squared, we could do it like so:"
   ]
  },
  {
   "cell_type": "code",
   "execution_count": 52,
   "metadata": {},
   "outputs": [
    {
     "name": "stdout",
     "output_type": "stream",
     "text": [
      "[0, 4, 16, 36, 64]\n"
     ]
    }
   ],
   "source": [
    "first_100 = list(range(100))\n",
    "first_100_even_squared = []\n",
    "\n",
    "for num in first_100:\n",
    "    if num % 2 == 0:\n",
    "        first_100_even_squared.append(num * num)\n",
    "\n",
    "print(first_100_even_squared[:5])"
   ]
  },
  {
   "cell_type": "markdown",
   "metadata": {},
   "source": [
    "And we can get a list of all numbers, but even numbers are squared and odd numbers are unchanged:"
   ]
  },
  {
   "cell_type": "code",
   "execution_count": 53,
   "metadata": {},
   "outputs": [
    {
     "name": "stdout",
     "output_type": "stream",
     "text": [
      "[0, 1, 4, 3, 16]\n"
     ]
    }
   ],
   "source": [
    "first_100 = list(range(100))\n",
    "first_100_even_squared_odd_originals = []\n",
    "\n",
    "for num in first_100:\n",
    "    if num % 2:\n",
    "        first_100_even_squared_odd_originals.append(num)\n",
    "    else:\n",
    "        first_100_even_squared_odd_originals.append(num * num)\n",
    "\n",
    "print(first_100_even_squared_odd_originals[:5])"
   ]
  },
  {
   "cell_type": "markdown",
   "metadata": {},
   "source": [
    "As you can imagine, there is a more succint way of doing this:\n",
    "<pre>\n",
    "    list = [expression for _item_ in _sequence_]\n",
    "</pre>\n",
    "so:"
   ]
  },
  {
   "cell_type": "code",
   "execution_count": 54,
   "metadata": {},
   "outputs": [
    {
     "name": "stdout",
     "output_type": "stream",
     "text": [
      "[0, 1, 4, 9, 16]\n"
     ]
    }
   ],
   "source": [
    "first_100 = list(range(100))\n",
    "first_100_squared = [num * num for num in first_100]\n",
    "\n",
    "#for num in first_100:\n",
    "#    first_100_squared.append(num * num)\n",
    "\n",
    "print(first_100_squared[:5])"
   ]
  },
  {
   "cell_type": "markdown",
   "metadata": {},
   "source": [
    "and \n",
    "<pre>\n",
    "    list = [expression for _item_ in _sequence_ if condition]\n",
    "</pre>"
   ]
  },
  {
   "cell_type": "code",
   "execution_count": 1,
   "metadata": {},
   "outputs": [
    {
     "name": "stdout",
     "output_type": "stream",
     "text": [
      "[0, 4, 16, 36, 64]\n"
     ]
    }
   ],
   "source": [
    "first_100 = list(range(100))\n",
    "first_100_even_squared = [num * num for num in first_100 if num % 2 == 0]\n",
    "\n",
    "#for num in first_100:\n",
    "#    if num % 2 == 0:\n",
    "#        first_100_even_squared.append(num * num)\n",
    "\n",
    "print(first_100_even_squared[:5])"
   ]
  },
  {
   "cell_type": "markdown",
   "metadata": {},
   "source": [
    "And if we want to include the 'else' clause as well:"
   ]
  },
  {
   "cell_type": "code",
   "execution_count": 57,
   "metadata": {},
   "outputs": [
    {
     "name": "stdout",
     "output_type": "stream",
     "text": [
      "[0, 1, 4, 3, 16]\n"
     ]
    }
   ],
   "source": [
    "first_100 = list(range(100))\n",
    "first_100_even_squared_odd_originals = [num if num % 2 else num * num for num in first_100]\n",
    "\n",
    "#for num in first_100:\n",
    "#    if num % 2:\n",
    "#        first_100_even_squared_odd_originals.append(num)\n",
    "#    else:\n",
    "#        first_100_even_squared_odd_originals.append(num * num)\n",
    "\n",
    "print(first_100_even_squared_odd_originals[:5])"
   ]
  },
  {
   "cell_type": "markdown",
   "metadata": {},
   "source": [
    "Finally, note that the first_100 list is redundant!"
   ]
  },
  {
   "cell_type": "code",
   "execution_count": 59,
   "metadata": {},
   "outputs": [
    {
     "name": "stdout",
     "output_type": "stream",
     "text": [
      "[5, 36, 7, 64, 9]\n"
     ]
    }
   ],
   "source": [
    "first_100_even_squared_odd_originals = [num if num % 2 else num * num for num in range(100)]\n",
    "print(first_100_even_squared_odd_originals[5:10])"
   ]
  }
 ],
 "metadata": {
  "kernelspec": {
   "display_name": "Python 3",
   "language": "python",
   "name": "python3"
  },
  "language_info": {
   "codemirror_mode": {
    "name": "ipython",
    "version": 3
   },
   "file_extension": ".py",
   "mimetype": "text/x-python",
   "name": "python",
   "nbconvert_exporter": "python",
   "pygments_lexer": "ipython3",
   "version": "3.7.3"
  },
  "latex_envs": {
   "LaTeX_envs_menu_present": true,
   "autoclose": false,
   "autocomplete": true,
   "bibliofile": "biblio.bib",
   "cite_by": "apalike",
   "current_citInitial": 1,
   "eqLabelWithNumbers": true,
   "eqNumInitial": 1,
   "hotkeys": {
    "equation": "Ctrl-E",
    "itemize": "Ctrl-I"
   },
   "labels_anchors": false,
   "latex_user_defs": false,
   "report_style_numbering": false,
   "user_envs_cfg": false
  }
 },
 "nbformat": 4,
 "nbformat_minor": 4
}
