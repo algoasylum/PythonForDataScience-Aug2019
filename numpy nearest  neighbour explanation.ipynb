{
 "cells": [
  {
   "cell_type": "markdown",
   "metadata": {},
   "source": [
    "I use this notebook to build the intuition behind how broadcasting is used to calculate nearest neighbours. This is useless by itself; you have been warned!!\n",
    "___"
   ]
  },
  {
   "cell_type": "code",
   "execution_count": 4,
   "metadata": {},
   "outputs": [],
   "source": [
    "import numpy as np\n",
    "\n",
    "def stats(n):\n",
    "    print(n.size, n.ndim, n.shape)"
   ]
  },
  {
   "cell_type": "markdown",
   "metadata": {},
   "source": [
    "Suppose we have an array of four elements:\n",
    "\n",
    "$a = [1, 2, 3, 4]$\n",
    "\n",
    "How might we use broadcasting to calculate the difference of each pair of elements?\n",
    "\n",
    "Step 1: transpose $a$ to get $a^t$\n",
    "\n",
    "Step 2: calculate $a - a^t$"
   ]
  },
  {
   "cell_type": "code",
   "execution_count": 12,
   "metadata": {},
   "outputs": [
    {
     "name": "stdout",
     "output_type": "stream",
     "text": [
      "======== a =========\n",
      "4 2 (4, 1)\n",
      "[[1]\n",
      " [2]\n",
      " [3]\n",
      " [4]]\n",
      "======== b =========\n",
      "4 2 (1, 4)\n",
      "[[1 2 3 4]]\n",
      "======== c = a - b =========\n",
      "16 2 (4, 4)\n",
      "[[ 0 -1 -2 -3]\n",
      " [ 1  0 -1 -2]\n",
      " [ 2  1  0 -1]\n",
      " [ 3  2  1  0]]\n",
      "======== d = b - a =========\n",
      "16 2 (4, 4)\n",
      "[[ 0  1  2  3]\n",
      " [-1  0  1  2]\n",
      " [-2 -1  0  1]\n",
      " [-3 -2 -1  0]]\n",
      "======== e =========\n",
      "4 3 (4, 1, 1)\n",
      "[[[1]]\n",
      "\n",
      " [[2]]\n",
      "\n",
      " [[3]]\n",
      "\n",
      " [[4]]]\n",
      "======== f = a - e =========\n",
      "16 3 (4, 4, 1)\n",
      "[[[ 0]\n",
      "  [ 1]\n",
      "  [ 2]\n",
      "  [ 3]]\n",
      "\n",
      " [[-1]\n",
      "  [ 0]\n",
      "  [ 1]\n",
      "  [ 2]]\n",
      "\n",
      " [[-2]\n",
      "  [-1]\n",
      "  [ 0]\n",
      "  [ 1]]\n",
      "\n",
      " [[-3]\n",
      "  [-2]\n",
      "  [-1]\n",
      "  [ 0]]]\n",
      "======== g = e - e =========\n",
      "16 3 (4, 4, 1)\n",
      "[[[ 0]\n",
      "  [-1]\n",
      "  [-2]\n",
      "  [-3]]\n",
      "\n",
      " [[ 1]\n",
      "  [ 0]\n",
      "  [-1]\n",
      "  [-2]]\n",
      "\n",
      " [[ 2]\n",
      "  [ 1]\n",
      "  [ 0]\n",
      "  [-1]]\n",
      "\n",
      " [[ 3]\n",
      "  [ 2]\n",
      "  [ 1]\n",
      "  [ 0]]]\n"
     ]
    }
   ],
   "source": [
    "\n",
    "a = np.array([1, 2, 3, 4]).reshape(4, 1)\n",
    "\n",
    "print(\"======== a =========\")\n",
    "stats(a)\n",
    "print(a)\n",
    "print(\"======== b =========\")\n",
    "b = a.reshape(1, 4)\n",
    "stats(b)\n",
    "print(b)\n",
    "print(\"======== c = a - b =========\")\n",
    "c = a - b\n",
    "stats(c)\n",
    "print(c)\n",
    "print(\"======== d = b - a =========\")\n",
    "d = b - a\n",
    "stats(d)\n",
    "print(d)\n",
    "\n",
    "e = a.reshape(4, 1, 1)\n",
    "print(\"======== e =========\")\n",
    "stats(e)\n",
    "print(e)\n",
    "\n",
    "f = a - e\n",
    "print(\"======== f = a - e =========\")\n",
    "stats(f)\n",
    "print(f)\n",
    "\n",
    "g = e - a\n",
    "print(\"======== g = e - a =========\")\n",
    "stats(g)\n",
    "print(g)"
   ]
  },
  {
   "cell_type": "markdown",
   "metadata": {},
   "source": [
    "General observation: we keep the last index 'constant', swap the next-to-last two indices and then do the broadcast subtraction\n",
    "\n",
    "So if we have the last index representing $k$ co-ordinates, we keep this constant, and swap the next two!\n",
    "\n",
    "So let's say we have a 2-d matrix, where each row is the co-ordinate of a point\n",
    "\n",
    "$b = [ [1, 2], [4, 5], [7, 8], [10, 11] ]$"
   ]
  },
  {
   "cell_type": "code",
   "execution_count": 15,
   "metadata": {},
   "outputs": [
    {
     "name": "stdout",
     "output_type": "stream",
     "text": [
      "8 2 (4, 2)\n",
      "[[ 1  2]\n",
      " [ 4  5]\n",
      " [ 7  8]\n",
      " [10 11]]\n"
     ]
    }
   ],
   "source": [
    "a = np.array([ [1, 2], [4, 5], [7, 8], [10, 11] ])\n",
    "stats(a)\n",
    "print(a)"
   ]
  },
  {
   "cell_type": "markdown",
   "metadata": {},
   "source": [
    "This is implicitly a 3 dimensional array, with lengths 1, 4, 2 along each dimension. We can swap the first two"
   ]
  },
  {
   "cell_type": "code",
   "execution_count": 16,
   "metadata": {},
   "outputs": [
    {
     "name": "stdout",
     "output_type": "stream",
     "text": [
      "8 3 (4, 1, 2)\n",
      "[[[ 1  2]]\n",
      "\n",
      " [[ 4  5]]\n",
      "\n",
      " [[ 7  8]]\n",
      "\n",
      " [[10 11]]]\n"
     ]
    }
   ],
   "source": [
    "b = a.reshape(4, 1, 2)\n",
    "stats(b)\n",
    "print(b)"
   ]
  },
  {
   "cell_type": "markdown",
   "metadata": {},
   "source": [
    "... and then do the subtraction:"
   ]
  },
  {
   "cell_type": "code",
   "execution_count": 17,
   "metadata": {},
   "outputs": [
    {
     "name": "stdout",
     "output_type": "stream",
     "text": [
      "32 3 (4, 4, 2)\n",
      "[[[ 0  0]\n",
      "  [ 3  3]\n",
      "  [ 6  6]\n",
      "  [ 9  9]]\n",
      "\n",
      " [[-3 -3]\n",
      "  [ 0  0]\n",
      "  [ 3  3]\n",
      "  [ 6  6]]\n",
      "\n",
      " [[-6 -6]\n",
      "  [-3 -3]\n",
      "  [ 0  0]\n",
      "  [ 3  3]]\n",
      "\n",
      " [[-9 -9]\n",
      "  [-6 -6]\n",
      "  [-3 -3]\n",
      "  [ 0  0]]]\n"
     ]
    }
   ],
   "source": [
    "c = a - b\n",
    "stats(c)\n",
    "print(c)"
   ]
  }
 ],
 "metadata": {
  "kernelspec": {
   "display_name": "Python 3",
   "language": "python",
   "name": "python3"
  },
  "language_info": {
   "codemirror_mode": {
    "name": "ipython",
    "version": 3
   },
   "file_extension": ".py",
   "mimetype": "text/x-python",
   "name": "python",
   "nbconvert_exporter": "python",
   "pygments_lexer": "ipython3",
   "version": "3.6.9"
  },
  "latex_envs": {
   "LaTeX_envs_menu_present": true,
   "autoclose": false,
   "autocomplete": true,
   "bibliofile": "biblio.bib",
   "cite_by": "apalike",
   "current_citInitial": 1,
   "eqLabelWithNumbers": true,
   "eqNumInitial": 1,
   "hotkeys": {
    "equation": "Ctrl-E",
    "itemize": "Ctrl-I"
   },
   "labels_anchors": false,
   "latex_user_defs": false,
   "report_style_numbering": false,
   "user_envs_cfg": false
  }
 },
 "nbformat": 4,
 "nbformat_minor": 4
}
