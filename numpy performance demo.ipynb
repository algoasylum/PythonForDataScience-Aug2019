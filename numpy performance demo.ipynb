{
 "cells": [
  {
   "cell_type": "markdown",
   "metadata": {},
   "source": [
    "A fun demo of how much faster compiled code can be, as compared to interpreted code!\n",
    "\n",
    "Like my other notebooks, the content below is as I developed it, so you'll find a lot of oddities. Don't take this as gospel, its just me experimenting with different approaches"
   ]
  },
  {
   "cell_type": "code",
   "execution_count": 2,
   "metadata": {},
   "outputs": [],
   "source": [
    "import numpy as np\n",
    "import matplotlib.pyplot as plt"
   ]
  },
  {
   "cell_type": "code",
   "execution_count": 8,
   "metadata": {},
   "outputs": [
    {
     "data": {
      "image/png": "[encoded data removed]",
      "text/plain": [
       "<matplotlib.figure.Figure at 0x22ec8cc5978>"
      ]
     },
     "metadata": {},
     "output_type": "display_data"
    }
   ],
   "source": [
    "csx = [np.cos(2*np.pi*x) for x in np.linspace(0,1,10)]\n",
    "rads = np.array([2*np.pi*x for x in np.linspace(0,1,10)])\n",
    "csx_np = np.cos(rads)\n",
    "#print(csx)\n",
    "snx = [np.sin(2*np.pi*x) for x in np.linspace(0,1,10)]\n",
    "fig, ax = plt.subplots(1, 2, figsize=(8,4))\n",
    "ax[0].stem(csx)\n",
    "ax[1].stem(csx_np)\n",
    "plt.show()"
   ]
  },
  {
   "cell_type": "code",
   "execution_count": 18,
   "metadata": {},
   "outputs": [
    {
     "name": "stdout",
     "output_type": "stream",
     "text": [
      "962 µs ± 176 µs per loop (mean ± std. dev. of 7 runs, 1000 loops each)\n"
     ]
    }
   ],
   "source": [
    "%%timeit\n",
    "rads = np.array([2*np.pi*x for x in np.linspace(0,3,1000)])\n",
    "csx_np = np.cos(rads)"
   ]
  },
  {
   "cell_type": "code",
   "execution_count": 19,
   "metadata": {},
   "outputs": [
    {
     "name": "stdout",
     "output_type": "stream",
     "text": [
      "900 µs ± 211 µs per loop (mean ± std. dev. of 7 runs, 1000 loops each)\n"
     ]
    }
   ],
   "source": [
    "%%timeit\n",
    "#csx_np = np.cos([2*np.pi*x for x in np.linspace(0,3,1000)])\n",
    "csx_np2 = np.cos(2*np.pi * np.linspace(0,3,1000))"
   ]
  },
  {
   "cell_type": "code",
   "execution_count": 20,
   "metadata": {},
   "outputs": [
    {
     "name": "stdout",
     "output_type": "stream",
     "text": [
      "5.35 ms ± 680 µs per loop (mean ± std. dev. of 7 runs, 100 loops each)\n"
     ]
    }
   ],
   "source": [
    "%%timeit\n",
    "csx = [np.cos(2*np.pi*x) for x in np.linspace(0,3,1000)]"
   ]
  },
  {
   "cell_type": "code",
   "execution_count": null,
   "metadata": {},
   "outputs": [],
   "source": [
    "#show that cos^2(x) + sin^2(x) = 1"
   ]
  },
  {
   "cell_type": "code",
   "execution_count": 5,
   "metadata": {},
   "outputs": [
    {
     "name": "stdout",
     "output_type": "stream",
     "text": [
      "92.3 ms ± 2.86 ms per loop (mean ± std. dev. of 7 runs, 10 loops each)\n"
     ]
    }
   ],
   "source": [
    "%%timeit\n",
    "#using lists\n",
    "csx = [np.cos(2*np.pi*x) for x in np.linspace(0,1,10000)]\n",
    "snx = [np.sin(2*np.pi*x) for x in np.linspace(0,1,10000)]\n",
    "for c,s in zip(csx, snx):\n",
    "    if c*c + s*s - 1 > 1e-6:\n",
    "        print(\"Error!\")\n",
    "#print(\"done!\")    "
   ]
  },
  {
   "cell_type": "code",
   "execution_count": 3,
   "metadata": {},
   "outputs": [
    {
     "name": "stdout",
     "output_type": "stream",
     "text": [
      "24.7 ms ± 9.39 ms per loop (mean ± std. dev. of 7 runs, 1 loop each)\n"
     ]
    }
   ],
   "source": [
    "%%timeit\n",
    "csx_np = np.cos([2*np.pi*x for x in np.linspace(0,1,10000)])\n",
    "snx_np = np.sin([2*np.pi*x for x in np.linspace(0,1,10000)])\n",
    "\n",
    "#t = (np.square(csx_np) + np.square(snx_np) - np.ones(10000)) > 1e-6\n",
    "#print(t.any())\n",
    "t1 = np.square(csx_np) + np.square(snx_np) - np.ones(10000)\n",
    "t2 = t1 > 1e-6\n",
    "#print(t2.any())\n",
    "#print(t)\n",
    "## SKK: this is interesting. I wrote the second version thinking it is easier to read, \n",
    "## but the first would be faster. Turns out that the second is faster!!"
   ]
  },
  {
   "cell_type": "code",
   "execution_count": 4,
   "metadata": {},
   "outputs": [
    {
     "name": "stdout",
     "output_type": "stream",
     "text": [
      "390 µs ± 18.4 µs per loop (mean ± std. dev. of 7 runs, 1000 loops each)\n"
     ]
    }
   ],
   "source": [
    "%%timeit\n",
    "csx_np = np.cos(2*np.pi*np.linspace(0,1,10000))\n",
    "snx_np = np.sin(2*np.pi * np.linspace(0,1,10000))\n",
    "\n",
    "#t = (np.square(csx_np) + np.square(snx_np) - np.ones(10000)) > 1e-6\n",
    "#print(t.any())\n",
    "t1 = np.square(csx_np) + np.square(snx_np) - 1\n",
    "t2 = t1 > 1e-6"
   ]
  }
 ],
 "metadata": {
  "kernelspec": {
   "display_name": "Python 3",
   "language": "python",
   "name": "python3"
  },
  "language_info": {
   "codemirror_mode": {
    "name": "ipython",
    "version": 3
   },
   "file_extension": ".py",
   "mimetype": "text/x-python",
   "name": "python",
   "nbconvert_exporter": "python",
   "pygments_lexer": "ipython3",
   "version": "3.6.9"
  }
 },
 "nbformat": 4,
 "nbformat_minor": 4
}
