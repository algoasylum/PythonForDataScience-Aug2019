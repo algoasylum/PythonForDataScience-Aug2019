{
 "cells": [
  {
   "cell_type": "markdown",
   "metadata": {},
   "source": [
    "This notebook continues from the previous one.\n",
    "We now have a utility module that contains helper functions which is being imported at the beginning. We ended the last notebook with the following "
   ]
  },
  {
   "cell_type": "markdown",
   "metadata": {},
   "source": [
    "## Exercises\n",
    "Create your own utility module \n",
    "Going forward, \n",
    "- Import this in all your future notebooks\n",
    "- Keep adding utility functions as you write them\n",
    "- Document each function as you add it to your module"
   ]
  },
  {
   "cell_type": "code",
   "execution_count": 3,
   "metadata": {},
   "outputs": [],
   "source": [
    "import utils"
   ]
  },
  {
   "cell_type": "code",
   "execution_count": 4,
   "metadata": {},
   "outputs": [
    {
     "data": {
      "text/plain": [
       "\u001b[1;31mSignature:\u001b[0m \u001b[0mutils\u001b[0m\u001b[1;33m.\u001b[0m\u001b[0mprintProps\u001b[0m\u001b[1;33m(\u001b[0m\u001b[0mprops\u001b[0m\u001b[1;33m,\u001b[0m \u001b[0mname\u001b[0m\u001b[1;33m,\u001b[0m \u001b[0mvar\u001b[0m\u001b[1;33m)\u001b[0m\u001b[1;33m\u001b[0m\u001b[1;33m\u001b[0m\u001b[0m\n",
       "\u001b[1;31mDocstring:\u001b[0m\n",
       "Print the properties of var\n",
       "Args:\n",
       "    props: a tuple of functions to call on var\n",
       "    name : string to be printed (name of var)\n",
       "    var  : variable of interest. This can be any type, but currently restricted to function objects without arguments\n",
       "Returns: \n",
       "    None\n",
       "Examples:\n",
       "    utils.printProps((type, id, callable, len, sys.getrefcount), 'a', a)\n",
       "\u001b[1;31mFile:\u001b[0m      c:\\users\\shrirang\\git\\python-foundations\\utils.py\n",
       "\u001b[1;31mType:\u001b[0m      function\n"
      ]
     },
     "metadata": {},
     "output_type": "display_data"
    }
   ],
   "source": [
    "utils.printProps?"
   ]
  },
  {
   "cell_type": "markdown",
   "metadata": {},
   "source": [
    "---\n",
    "\n",
    "We start out with **scalers**. The basic types are ints, floats, char, boolean and complex"
   ]
  },
  {
   "cell_type": "code",
   "execution_count": 5,
   "metadata": {},
   "outputs": [
    {
     "name": "stdout",
     "output_type": "stream",
     "text": [
      "  id(a) : 140718404637632\n",
      "type(a) : <class 'int'>\n"
     ]
    }
   ],
   "source": [
    "a = 5\n",
    "#... print the value, id and type of a and 5\n",
    "utils.printProps((id, type), 'a', a)\n",
    "a = 5.5\n",
    "\n",
    "a = '5'\n",
    "\n",
    "a = True\n",
    "\n",
    "a = (3 + 4j)"
   ]
  },
  {
   "cell_type": "code",
   "execution_count": 12,
   "metadata": {},
   "outputs": [
    {
     "data": {
      "text/plain": [
       "217"
      ]
     },
     "execution_count": 12,
     "metadata": {},
     "output_type": "execute_result"
    }
   ],
   "source": [
    "import sys\n",
    "sys.getrefcount(5)"
   ]
  },
  {
   "cell_type": "markdown",
   "metadata": {},
   "source": [
    "---\n",
    "hmmm... how do we interpret the statement \"everything is an object\" for scalers?\n",
    "\n",
    "Let's peel back the covers on integers. The `dir` in-built function is especially useful here"
   ]
  },
  {
   "cell_type": "code",
   "execution_count": 7,
   "metadata": {},
   "outputs": [
    {
     "data": {
      "text/plain": [
       "['__abs__',\n",
       " '__add__',\n",
       " '__and__',\n",
       " '__bool__',\n",
       " '__ceil__',\n",
       " '__class__',\n",
       " '__delattr__',\n",
       " '__dir__',\n",
       " '__divmod__',\n",
       " '__doc__',\n",
       " '__eq__',\n",
       " '__float__',\n",
       " '__floor__',\n",
       " '__floordiv__',\n",
       " '__format__',\n",
       " '__ge__',\n",
       " '__getattribute__',\n",
       " '__getnewargs__',\n",
       " '__gt__',\n",
       " '__hash__',\n",
       " '__index__',\n",
       " '__init__',\n",
       " '__init_subclass__',\n",
       " '__int__',\n",
       " '__invert__',\n",
       " '__le__',\n",
       " '__lshift__',\n",
       " '__lt__',\n",
       " '__mod__',\n",
       " '__mul__',\n",
       " '__ne__',\n",
       " '__neg__',\n",
       " '__new__',\n",
       " '__or__',\n",
       " '__pos__',\n",
       " '__pow__',\n",
       " '__radd__',\n",
       " '__rand__',\n",
       " '__rdivmod__',\n",
       " '__reduce__',\n",
       " '__reduce_ex__',\n",
       " '__repr__',\n",
       " '__rfloordiv__',\n",
       " '__rlshift__',\n",
       " '__rmod__',\n",
       " '__rmul__',\n",
       " '__ror__',\n",
       " '__round__',\n",
       " '__rpow__',\n",
       " '__rrshift__',\n",
       " '__rshift__',\n",
       " '__rsub__',\n",
       " '__rtruediv__',\n",
       " '__rxor__',\n",
       " '__setattr__',\n",
       " '__sizeof__',\n",
       " '__str__',\n",
       " '__sub__',\n",
       " '__subclasshook__',\n",
       " '__truediv__',\n",
       " '__trunc__',\n",
       " '__xor__',\n",
       " 'bit_length',\n",
       " 'conjugate',\n",
       " 'denominator',\n",
       " 'from_bytes',\n",
       " 'imag',\n",
       " 'numerator',\n",
       " 'real',\n",
       " 'to_bytes']"
      ]
     },
     "execution_count": 7,
     "metadata": {},
     "output_type": "execute_result"
    }
   ],
   "source": [
    "a = 5\n",
    "dir(a)\n",
    "#print(a.__abs__)"
   ]
  },
  {
   "cell_type": "markdown",
   "metadata": {},
   "source": [
    "## Exercises\n",
    "1. Try running a few of the functions that you see for different scaler types. Does the output match your expectation?\n",
    "2. How can we get more information on each function - what it is doing, what arguments it expects, etc.?"
   ]
  },
  {
   "cell_type": "code",
   "execution_count": 13,
   "metadata": {},
   "outputs": [
    {
     "data": {
      "text/plain": [
       "\u001b[1;31mInit signature:\u001b[0m \u001b[0mint\u001b[0m\u001b[1;33m(\u001b[0m\u001b[0mself\u001b[0m\u001b[1;33m,\u001b[0m \u001b[1;33m/\u001b[0m\u001b[1;33m,\u001b[0m \u001b[1;33m*\u001b[0m\u001b[0margs\u001b[0m\u001b[1;33m,\u001b[0m \u001b[1;33m**\u001b[0m\u001b[0mkwargs\u001b[0m\u001b[1;33m)\u001b[0m\u001b[1;33m\u001b[0m\u001b[0m\n",
       "\u001b[1;31mDocstring:\u001b[0m     \n",
       "int(x=0) -> integer\n",
       "int(x, base=10) -> integer\n",
       "\n",
       "Convert a number or string to an integer, or return 0 if no arguments\n",
       "are given.  If x is a number, return x.__int__().  For floating point\n",
       "numbers, this truncates towards zero.\n",
       "\n",
       "If x is not a number or if base is given, then x must be a string,\n",
       "bytes, or bytearray instance representing an integer literal in the\n",
       "given base.  The literal can be preceded by '+' or '-' and be surrounded\n",
       "by whitespace.  The base defaults to 10.  Valid bases are 0 and 2-36.\n",
       "Base 0 means to interpret the base from the string as an integer literal.\n",
       ">>> int('0b100', base=0)\n",
       "4\n",
       "\u001b[1;31mType:\u001b[0m           type\n"
      ]
     },
     "metadata": {},
     "output_type": "display_data"
    }
   ],
   "source": [
    "int?"
   ]
  },
  {
   "cell_type": "markdown",
   "metadata": {},
   "source": [
    "# Digression: nothing\n",
    "Python has a special value called `None` that represents the absence of a value"
   ]
  },
  {
   "cell_type": "code",
   "execution_count": 4,
   "metadata": {},
   "outputs": [
    {
     "name": "stdout",
     "output_type": "stream",
     "text": [
      "5\n",
      "Didn't get anything back from foo!!\n"
     ]
    }
   ],
   "source": [
    "def foo(a):\n",
    "    print(a)\n",
    "\n",
    "b = foo(5)\n",
    "if b is None:\n",
    "    print(\"Didn't get anything back from foo!!\")"
   ]
  },
  {
   "cell_type": "markdown",
   "metadata": {},
   "source": [
    "# Digression: identity and equality\n",
    "Like other languages, `==` can check for equality\n",
    "`is` checks for type equivalence"
   ]
  },
  {
   "cell_type": "code",
   "execution_count": 9,
   "metadata": {},
   "outputs": [
    {
     "name": "stdout",
     "output_type": "stream",
     "text": [
      "  id of a is 1483894368\n",
      "  id of 5 is 1483894368\n",
      "a is 5\n",
      "  id of a is 2831850415544\n",
      "  id of 5.5 is 2831850415520\n",
      "a is not 5.5\n",
      "a is equal to 5.5\n"
     ]
    }
   ],
   "source": [
    "a = 5\n",
    "utils.printProps((id,), 'a', a)\n",
    "utils.printProps((id,), '5', 5)\n",
    "\n",
    "if a is 5:\n",
    "    print(\"a is 5\")\n",
    "else:\n",
    "    print(\"a is not 5\")\n",
    "    \n",
    "print()\n",
    "a = 5.5\n",
    "utils.printProps((id,), 'a', a)\n",
    "utils.printProps((id,), '5.5', 5.5)\n",
    "\n",
    "if a is 5.5:\n",
    "    print(\"a is 5.5\")\n",
    "else:\n",
    "    print(\"a is not 5.5\") \n",
    "    \n",
    "print()\n",
    "if a == 5.5:\n",
    "    print(\"a is equal to 5.5\")\n",
    "else:\n",
    "    print(\"a is not equal to 5.5\")       "
   ]
  },
  {
   "cell_type": "markdown",
   "metadata": {},
   "source": [
    "# Digression: functions are objects too!\n",
    "Print the properties of a function that you've defined!"
   ]
  },
  {
   "cell_type": "code",
   "execution_count": 24,
   "metadata": {},
   "outputs": [
    {
     "name": "stdout",
     "output_type": "stream",
     "text": [
      "type of pp is <class 'function'>\n"
     ]
    }
   ],
   "source": [
    "utils.printProps((type,), \"pp\", utils.printProps)"
   ]
  },
  {
   "cell_type": "code",
   "execution_count": 30,
   "metadata": {},
   "outputs": [
    {
     "name": "stdout",
     "output_type": "stream",
     "text": [
      "type of pp is <class 'function'>\n",
      "  id of pp is 2831817796328\n",
      "callable of pp is True\n"
     ]
    }
   ],
   "source": [
    "utils.printProps((type, id, callable), \"pp\", utils.printProps)"
   ]
  },
  {
   "cell_type": "code",
   "execution_count": 8,
   "metadata": {},
   "outputs": [
    {
     "name": "stdout",
     "output_type": "stream",
     "text": [
      "printProps(pp) : cannot be called\n"
     ]
    }
   ],
   "source": [
    "## hmmm, what happens if I call printProps with printProps?\n",
    "utils.printProps((utils.printProps,), \"pp\", utils.printProps) "
   ]
  },
  {
   "cell_type": "code",
   "execution_count": 9,
   "metadata": {},
   "outputs": [
    {
     "name": "stdout",
     "output_type": "stream",
     "text": [
      "len(a) : cannot be called\n"
     ]
    }
   ],
   "source": [
    "a = 5\n",
    "utils.printProps((len,), \"a\", a)"
   ]
  },
  {
   "cell_type": "code",
   "execution_count": null,
   "metadata": {},
   "outputs": [],
   "source": [
    "## we need to supply arguments! let's do that later"
   ]
  },
  {
   "cell_type": "code",
   "execution_count": 26,
   "metadata": {},
   "outputs": [
    {
     "data": {
      "text/plain": [
       "['__annotations__',\n",
       " '__call__',\n",
       " '__class__',\n",
       " '__closure__',\n",
       " '__code__',\n",
       " '__defaults__',\n",
       " '__delattr__',\n",
       " '__dict__',\n",
       " '__dir__',\n",
       " '__doc__',\n",
       " '__eq__',\n",
       " '__format__',\n",
       " '__ge__',\n",
       " '__get__',\n",
       " '__getattribute__',\n",
       " '__globals__',\n",
       " '__gt__',\n",
       " '__hash__',\n",
       " '__init__',\n",
       " '__init_subclass__',\n",
       " '__kwdefaults__',\n",
       " '__le__',\n",
       " '__lt__',\n",
       " '__module__',\n",
       " '__name__',\n",
       " '__ne__',\n",
       " '__new__',\n",
       " '__qualname__',\n",
       " '__reduce__',\n",
       " '__reduce_ex__',\n",
       " '__repr__',\n",
       " '__setattr__',\n",
       " '__sizeof__',\n",
       " '__str__',\n",
       " '__subclasshook__']"
      ]
     },
     "execution_count": 26,
     "metadata": {},
     "output_type": "execute_result"
    }
   ],
   "source": [
    "#... and what can printProps do for us?\n",
    "dir(utils.printProps)"
   ]
  },
  {
   "cell_type": "markdown",
   "metadata": {},
   "source": [
    "--- \n",
    "**Sequences** are containers, and can hold heterogenous objects. The basic types are list, tuple, dict and set"
   ]
  },
  {
   "cell_type": "code",
   "execution_count": 33,
   "metadata": {},
   "outputs": [
    {
     "name": "stdout",
     "output_type": "stream",
     "text": [
      "  id of a is 2831844994216\n",
      "type of a is <class 'tuple'>\n",
      "\n",
      "  id of a[0] is 1483894240\n",
      "type of a[0] is <class 'int'>\n",
      "  id of 1 is 1483894240\n",
      "type of 1 is <class 'int'>\n",
      "\n"
     ]
    }
   ],
   "source": [
    "## Sequences\n",
    "# Tuples\n",
    "a = (1, 2, 3)\n",
    "utils.printProps((id, type), 'a', a)\n",
    "print()\n",
    "utils.printProps((id, type), \"a[0]\", a[0])\n",
    "utils.printProps((id, type), \"1\", 1)\n",
    "print()\n"
   ]
  },
  {
   "cell_type": "code",
   "execution_count": 34,
   "metadata": {},
   "outputs": [
    {
     "name": "stdout",
     "output_type": "stream",
     "text": [
      "  id of a is 2831868536328\n",
      "type of a is <class 'list'>\n",
      "\n",
      "  id of a[0] is 1483894240\n",
      "type of a[0] is <class 'int'>\n",
      "  id of 1 is 1483894240\n",
      "type of 1 is <class 'int'>\n",
      "\n"
     ]
    }
   ],
   "source": [
    "# Lists\n",
    "a = [1, 2, 3]\n",
    "utils.printProps((id, type), 'a', a)\n",
    "print()\n",
    "utils.printProps((id, type), 'a[0]', a[0])\n",
    "utils.printProps((id, type), '1', 1)\n",
    "print()"
   ]
  },
  {
   "cell_type": "code",
   "execution_count": 35,
   "metadata": {},
   "outputs": [
    {
     "name": "stdout",
     "output_type": "stream",
     "text": [
      "  id of a is 2831868189360\n",
      "type of a is <class 'str'>\n",
      "\n",
      "  id of a[0] is 2831798957648\n",
      "type of a[0] is <class 'str'>\n",
      "  id of f is 2831798957648\n",
      "type of f is <class 'str'>\n",
      "\n"
     ]
    }
   ],
   "source": [
    "a = \"foobar\"\n",
    "utils.printProps((id, type), 'a', a)\n",
    "print()\n",
    "utils.printProps((id, type), 'a[0]', a[0])\n",
    "utils.printProps((id, type), 'f', 'f')\n",
    "print()"
   ]
  },
  {
   "cell_type": "code",
   "execution_count": 37,
   "metadata": {},
   "outputs": [
    {
     "name": "stdout",
     "output_type": "stream",
     "text": [
      "  id of a is 2831850841936\n",
      "type of a is <class 'complex'>\n",
      "a is  (4+5j)\n",
      "\n",
      "  id of a.real is 2831850416504\n",
      "  id of 4 is 1483894336\n",
      "  id of 4.0 is 2831850416552\n",
      "\n"
     ]
    }
   ],
   "source": [
    "#not a sequence\n",
    "a = complex(4, 5)\n",
    "utils.printProps((id, type), 'a', a)\n",
    "print('a is ', a)\n",
    "print()\n",
    "utils.printProps((id,), 'a.real', a.real)\n",
    "utils.printProps((id,), '4', 4)\n",
    "utils.printProps((id,), '4.0', 4.0)\n",
    "print()"
   ]
  },
  {
   "cell_type": "code",
   "execution_count": 38,
   "metadata": {},
   "outputs": [
    {
     "data": {
      "text/plain": [
       "['__add__',\n",
       " '__class__',\n",
       " '__contains__',\n",
       " '__delattr__',\n",
       " '__dir__',\n",
       " '__doc__',\n",
       " '__eq__',\n",
       " '__format__',\n",
       " '__ge__',\n",
       " '__getattribute__',\n",
       " '__getitem__',\n",
       " '__getnewargs__',\n",
       " '__gt__',\n",
       " '__hash__',\n",
       " '__init__',\n",
       " '__init_subclass__',\n",
       " '__iter__',\n",
       " '__le__',\n",
       " '__len__',\n",
       " '__lt__',\n",
       " '__mul__',\n",
       " '__ne__',\n",
       " '__new__',\n",
       " '__reduce__',\n",
       " '__reduce_ex__',\n",
       " '__repr__',\n",
       " '__rmul__',\n",
       " '__setattr__',\n",
       " '__sizeof__',\n",
       " '__str__',\n",
       " '__subclasshook__',\n",
       " 'count',\n",
       " 'index']"
      ]
     },
     "execution_count": 38,
     "metadata": {},
     "output_type": "execute_result"
    }
   ],
   "source": [
    "dir((1, 2))"
   ]
  },
  {
   "cell_type": "code",
   "execution_count": 39,
   "metadata": {},
   "outputs": [
    {
     "name": "stdout",
     "output_type": "stream",
     "text": [
      "  id of a is 2831868074632\n",
      "  id of a is 2831868073544\n",
      "  id of a is 2831868073544\n",
      "  id of a is 2831868073544\n",
      "\n",
      "[1, 2, 3, 4, 5, 6]\n"
     ]
    }
   ],
   "source": [
    "a = [1, 2, 3]\n",
    "utils.printProps((id,), 'a', a)\n",
    "a = [1, 2, 3, 4]\n",
    "utils.printProps((id,), 'a', a)\n",
    "a += [5]\n",
    "utils.printProps((id,), 'a', a)\n",
    "a.append(6)\n",
    "utils.printProps((id,), 'a', a)\n",
    "print()\n",
    "print(a)"
   ]
  },
  {
   "cell_type": "code",
   "execution_count": 40,
   "metadata": {},
   "outputs": [
    {
     "name": "stdout",
     "output_type": "stream",
     "text": [
      "  id of a is 2831845203472\n",
      "  id of a is 2831868545208\n",
      "(1, 2, 3, 5)\n"
     ]
    }
   ],
   "source": [
    "#lists can be changed, tuples cannot:\n",
    "a = (1, 2, 3)\n",
    "utils.printProps((id,), 'a', a)\n",
    "a += (5,)\n",
    "utils.printProps((id,), 'a', a)\n",
    "print(a)"
   ]
  },
  {
   "cell_type": "code",
   "execution_count": 41,
   "metadata": {},
   "outputs": [
    {
     "name": "stdout",
     "output_type": "stream",
     "text": [
      "a =  5  b =  5\n",
      "a =  5  b =  1\n"
     ]
    }
   ],
   "source": [
    "# What do you expect will happen here?\n",
    "a = 5\n",
    "b = a\n",
    "print(\"a = \", a, \" b = \", b)\n",
    "\n",
    "## print the id's of both a and b here\n",
    "\n",
    "b = 1\n",
    "print(\"a = \", a, \" b = \", b)\n",
    "## print the id's of both a and b here"
   ]
  },
  {
   "cell_type": "code",
   "execution_count": 43,
   "metadata": {},
   "outputs": [
    {
     "name": "stdout",
     "output_type": "stream",
     "text": [
      "a =  [1, 2, [3, 4], 5]  b =  [1, 2, [3, 4], 5]\n",
      "a =  []  b =  []\n"
     ]
    }
   ],
   "source": [
    "#right, now what happens when we look at lists?\n",
    "a = [1, 2, [3, 4], 5]\n",
    "b = a\n",
    "print(\"a = \", a, \" b = \", b)\n",
    "\n",
    "## print the id's of both a and b here\n",
    "b.clear()\n",
    "print(\"a = \", a, \" b = \", b)\n",
    "## print the id's of both a and b here"
   ]
  },
  {
   "cell_type": "code",
   "execution_count": 44,
   "metadata": {},
   "outputs": [
    {
     "name": "stdout",
     "output_type": "stream",
     "text": [
      "a =  [1, 2, [3, 4], 5]  b =  [1, 2, [3, 4], 5]\n",
      "a =  [1, 2, [3, 4], 5]  b =  []\n"
     ]
    }
   ],
   "source": [
    "#right, now what happens when we look at lists?\n",
    "a = [1, 2, [3, 4], 5]\n",
    "b = a.copy()\n",
    "print(\"a = \", a, \" b = \", b)\n",
    "\n",
    "## print the id's of both a and b here\n",
    "b.clear()\n",
    "print(\"a = \", a, \" b = \", b)\n",
    "## print the id's of both a and b here"
   ]
  },
  {
   "cell_type": "code",
   "execution_count": null,
   "metadata": {},
   "outputs": [],
   "source": []
  }
 ],
 "metadata": {
  "kernelspec": {
   "display_name": "Python 3",
   "language": "python",
   "name": "python3"
  },
  "language_info": {
   "codemirror_mode": {
    "name": "ipython",
    "version": 3
   },
   "file_extension": ".py",
   "mimetype": "text/x-python",
   "name": "python",
   "nbconvert_exporter": "python",
   "pygments_lexer": "ipython3",
   "version": "3.7.3"
  },
  "latex_envs": {
   "LaTeX_envs_menu_present": true,
   "autoclose": false,
   "autocomplete": true,
   "bibliofile": "biblio.bib",
   "cite_by": "apalike",
   "current_citInitial": 1,
   "eqLabelWithNumbers": true,
   "eqNumInitial": 1,
   "hotkeys": {
    "equation": "Ctrl-E",
    "itemize": "Ctrl-I"
   },
   "labels_anchors": false,
   "latex_user_defs": false,
   "report_style_numbering": false,
   "user_envs_cfg": false
  }
 },
 "nbformat": 4,
 "nbformat_minor": 4
}
