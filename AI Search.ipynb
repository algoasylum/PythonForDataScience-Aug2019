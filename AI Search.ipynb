{
 "cells": [
  {
   "cell_type": "markdown",
   "metadata": {},
   "source": [
    "5 components of search:\n",
    "- Start state\n",
    "- Actions\n",
    "- Transition model\n",
    "- Goal test (state)\n",
    "- Path cost"
   ]
  },
  {
   "cell_type": "markdown",
   "metadata": {},
   "source": [
    "Examples:\n",
    "- Path finding \n",
    "- Autonomous robots\n",
    "- Puzzle & maze solving\n",
    "    "
   ]
  },
  {
   "cell_type": "markdown",
   "metadata": {},
   "source": [
    "Generic Approach: search trees\n",
    "\n",
    "![AISearch](./figs/AISearch.png)"
   ]
  },
  {
   "cell_type": "markdown",
   "metadata": {},
   "source": [
    "We will use search to solve the $n$-squares puzzle, where $n = i^2 -1$\n",
    "\n",
    "How do we represent the five components listed above?\n",
    "\n",
    "Lets start with the state of the puzzle. Here's one:\n",
    "\n",
    "![Final State](figs\\finalstate.png)\n",
    "\n",
    "This is, ofcourse, the _final state_ that we want. An couple of examples of initial states are:\n",
    "\n",
    "![Initial State](figs\\initialstate1.png) and ![Initial State](figs\\initialstate2.png)"
   ]
  },
  {
   "cell_type": "markdown",
   "metadata": {},
   "source": [
    "What is a good way of representing these states, keeping in mind that we want to \n",
    "- expand a state\n",
    "- test whether we've reached a goal state?\n",
    "In this context, what do each of the above even mean?\n"
   ]
  },
  {
   "cell_type": "markdown",
   "metadata": {},
   "source": [
    "Let's think about what \"expanding a state\" could mean. If we start with the following configuration:\n",
    "\n",
    "![Start State](figs\\start.png)\n",
    "\n",
    "We can move the $2$ tile over to the left:\n",
    "\n",
    "![Transition 1](figs\\transition1.png)\n",
    "![Child 1](figs\\child1.png)\n",
    "\n",
    "or we can move the $4$ tile up:\n",
    "\n",
    "![Transition 2](figs\\transition2.png)\n",
    "![Child 2](figs\\child2.png)"
   ]
  },
  {
   "cell_type": "markdown",
   "metadata": {},
   "source": [
    "A more generic way of thinking about this would be to think in terms of moving the blank, instead of moving a numbered tile. \n",
    "\n",
    "In the above example, expanding a state would be moving the blank to the right or down (the only two possibilities):\n",
    "\n",
    "![Blank Move](figs\\blankmove1.png)\n",
    "![Blank Move](figs\\blankmove2.png)\n",
    "\n",
    "\n",
    "In this situation, the blank can move up, down, left or right:\n",
    "\n",
    "![Initial 2](figs\\initial2.png)\n",
    "![Expanded 2](figs\\expanded2.png)"
   ]
  },
  {
   "cell_type": "markdown",
   "metadata": {},
   "source": [
    "Suggestion 1: represent the blank with a '0'\n",
    "\n",
    "Suggestion 2: represent the state using a 1D array -- search operations will be much easier\n",
    "\n",
    "Question: how can we capture the notion of a move?\n",
    "- We need to know which row and column the zero is in: translate an index into row and col\n",
    "- We need to know where the neighbors are in the 1D array: translate a row and col into an index"
   ]
  },
  {
   "cell_type": "code",
   "execution_count": 3,
   "metadata": {},
   "outputs": [
    {
     "name": "stdout",
     "output_type": "stream",
     "text": [
      "[[0, 1, 2, 3, 4, 5, 6, 7, 8]]\n"
     ]
    }
   ],
   "source": [
    "s = [list(range(9))]\n",
    "print(s)"
   ]
  },
  {
   "cell_type": "markdown",
   "metadata": {},
   "source": [
    "1. Find the blank/zero (its index)\n",
    "2. Find the row and column corresponding to the index\n",
    "3. Which are the neighbors that the blank can move to? (the row and col)\n",
    "4. What are the indices of these neighbors?\n",
    "5. What are all the children of this state?"
   ]
  },
  {
   "cell_type": "markdown",
   "metadata": {},
   "source": [
    "How can we keep track of the children?\n",
    "\n",
    "Object Oriented Python!!"
   ]
  },
  {
   "cell_type": "markdown",
   "metadata": {},
   "source": [
    "Let's define a state object with the following attributes\n",
    "\n",
    "n: the dimension of the puzzle (and therefore the length of the list)\n",
    "\n",
    "layout: a list of size $n^2$\n",
    "\n",
    "cost: the number of steps it took to get here. What is the relation with respect to the parent?\n",
    "\n",
    "parent: a reference to the parent node\n",
    "\n",
    "action: how did we get here from the parent node?\n",
    "\n",
    "children: the possibilities if we expand this node"
   ]
  },
  {
   "cell_type": "code",
   "execution_count": 4,
   "metadata": {},
   "outputs": [],
   "source": [
    "class Position(object):\n",
    "    def __init__(self, n=3, layout=[], cost=0, parent=None, action=\"start\"):\n",
    "        self.n      = n\n",
    "        self.layout = layout\n",
    "        self.cost   = cost\n",
    "        self.parent = parent\n",
    "        self.action = action\n",
    "        \n",
    "        self.children = []\n",
    "        \n",
    "        ##initialize self.blankrow and self.blankcol\n",
    "    \n",
    "    def __str__(self):\n",
    "        pass\n",
    "\n",
    "    ## return new states that move the blank appropriately. Null if not possible\n",
    "    def moveleft(self):\n",
    "        pass\n",
    "    def moveright(self):\n",
    "        pass\n",
    "    def moveup(self):\n",
    "        pass\n",
    "    def movedown(self):\n",
    "        pass\n",
    "    \n",
    "    ## populate self.children and return it\n",
    "    def expand(self):\n",
    "        pass\n",
    "        \n",
    "    ##return True if this is the final state\n",
    "    def finalstate(self):\n",
    "        pass\n",
    "        "
   ]
  },
  {
   "cell_type": "markdown",
   "metadata": {},
   "source": [
    "Breadth-First-Search\n",
    "\n",
    "1. What functionality do we need to keep track of the frontier?\n",
    "2. What functionality do we need to keep track of the explored positions?\n",
    "\n",
    "while the frontier is not empty:\n",
    "\n",
    "    get the next position from the frontier\n",
    "    \n",
    "    add it to the explored list\n",
    "    \n",
    "    determine if this is the final state\n",
    "    \n",
    "        if so, we're done!\n",
    "    \n",
    "    expand the position\n",
    "    \n",
    "    check if the new position has been processed\n",
    "    \n",
    "    if not, add it to the frontier\n",
    "    \n",
    "How does Depth-First-Search differ?"
   ]
  },
  {
   "cell_type": "code",
   "execution_count": null,
   "metadata": {},
   "outputs": [],
   "source": [
    "# skk: sketch out the outline of the algorithm\n",
    "def BFS:\n",
    "    pass"
   ]
  },
  {
   "cell_type": "code",
   "execution_count": null,
   "metadata": {},
   "outputs": [],
   "source": [
    "def DFS:\n",
    "    pass"
   ]
  },
  {
   "cell_type": "code",
   "execution_count": null,
   "metadata": {},
   "outputs": [],
   "source": [
    "def AStar:\n",
    "    pass"
   ]
  }
 ],
 "metadata": {
  "kernelspec": {
   "display_name": "Python 3",
   "language": "python",
   "name": "python3"
  },
  "language_info": {
   "codemirror_mode": {
    "name": "ipython",
    "version": 3
   },
   "file_extension": ".py",
   "mimetype": "text/x-python",
   "name": "python",
   "nbconvert_exporter": "python",
   "pygments_lexer": "ipython3",
   "version": "3.6.9"
  }
 },
 "nbformat": 4,
 "nbformat_minor": 4
}
